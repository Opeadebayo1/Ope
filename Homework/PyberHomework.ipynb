{
 "cells": [
  {
   "cell_type": "code",
   "execution_count": 132,
   "metadata": {
    "collapsed": true
   },
   "outputs": [],
   "source": [
    "import pandas as pd\n",
    "import numpy as np\n",
    "import matplotlib.pyplot as plt\n",
    "%matplotlib inline\n"
   ]
  },
  {
   "cell_type": "code",
   "execution_count": 133,
   "metadata": {},
   "outputs": [
    {
     "data": {
      "text/html": [
       "<div>\n",
       "<style>\n",
       "    .dataframe thead tr:only-child th {\n",
       "        text-align: right;\n",
       "    }\n",
       "\n",
       "    .dataframe thead th {\n",
       "        text-align: left;\n",
       "    }\n",
       "\n",
       "    .dataframe tbody tr th {\n",
       "        vertical-align: top;\n",
       "    }\n",
       "</style>\n",
       "<table border=\"1\" class=\"dataframe\">\n",
       "  <thead>\n",
       "    <tr style=\"text-align: right;\">\n",
       "      <th></th>\n",
       "      <th>city</th>\n",
       "      <th>date</th>\n",
       "      <th>fare</th>\n",
       "      <th>ride_id</th>\n",
       "      <th>driver_count</th>\n",
       "      <th>type</th>\n",
       "    </tr>\n",
       "  </thead>\n",
       "  <tbody>\n",
       "    <tr>\n",
       "      <th>0</th>\n",
       "      <td>Sarabury</td>\n",
       "      <td>2016-01-16 13:49:27</td>\n",
       "      <td>38.35</td>\n",
       "      <td>5403689035038</td>\n",
       "      <td>46</td>\n",
       "      <td>Urban</td>\n",
       "    </tr>\n",
       "    <tr>\n",
       "      <th>1</th>\n",
       "      <td>Sarabury</td>\n",
       "      <td>2016-07-23 07:42:44</td>\n",
       "      <td>21.76</td>\n",
       "      <td>7546681945283</td>\n",
       "      <td>46</td>\n",
       "      <td>Urban</td>\n",
       "    </tr>\n",
       "    <tr>\n",
       "      <th>2</th>\n",
       "      <td>Sarabury</td>\n",
       "      <td>2016-04-02 04:32:25</td>\n",
       "      <td>38.03</td>\n",
       "      <td>4932495851866</td>\n",
       "      <td>46</td>\n",
       "      <td>Urban</td>\n",
       "    </tr>\n",
       "    <tr>\n",
       "      <th>3</th>\n",
       "      <td>Sarabury</td>\n",
       "      <td>2016-06-23 05:03:41</td>\n",
       "      <td>26.82</td>\n",
       "      <td>6711035373406</td>\n",
       "      <td>46</td>\n",
       "      <td>Urban</td>\n",
       "    </tr>\n",
       "    <tr>\n",
       "      <th>4</th>\n",
       "      <td>Sarabury</td>\n",
       "      <td>2016-09-30 12:48:34</td>\n",
       "      <td>30.30</td>\n",
       "      <td>6388737278232</td>\n",
       "      <td>46</td>\n",
       "      <td>Urban</td>\n",
       "    </tr>\n",
       "  </tbody>\n",
       "</table>\n",
       "</div>"
      ],
      "text/plain": [
       "       city                 date   fare        ride_id  driver_count   type\n",
       "0  Sarabury  2016-01-16 13:49:27  38.35  5403689035038            46  Urban\n",
       "1  Sarabury  2016-07-23 07:42:44  21.76  7546681945283            46  Urban\n",
       "2  Sarabury  2016-04-02 04:32:25  38.03  4932495851866            46  Urban\n",
       "3  Sarabury  2016-06-23 05:03:41  26.82  6711035373406            46  Urban\n",
       "4  Sarabury  2016-09-30 12:48:34  30.30  6388737278232            46  Urban"
      ]
     },
     "execution_count": 133,
     "metadata": {},
     "output_type": "execute_result"
    }
   ],
   "source": [
    "city_df = pd.read_csv(\"city_data.csv\")\n",
    "ride_df = pd.read_csv(\"ride_data.csv\")\n",
    "combo = pd.merge(ride_df, city_df, on=\"city\")\n",
    "combo.head()"
   ]
  },
  {
   "cell_type": "code",
   "execution_count": 184,
   "metadata": {},
   "outputs": [],
   "source": [
    "\n",
    "#Basic Calculations\n",
    "fair_ave = combo.groupby(\"city\")[\"fare\"].mean()\n",
    "ride_count = combo.groupby(\"city\")[\"ride_id\"].count()\n",
    "drivers_sum = combo.groupby(\"city\")[\"driver_count\"].count()\n",
    "\n"
   ]
  },
  {
   "cell_type": "code",
   "execution_count": 185,
   "metadata": {},
   "outputs": [
    {
     "data": {
      "text/html": [
       "<div>\n",
       "<style>\n",
       "    .dataframe thead tr:only-child th {\n",
       "        text-align: right;\n",
       "    }\n",
       "\n",
       "    .dataframe thead th {\n",
       "        text-align: left;\n",
       "    }\n",
       "\n",
       "    .dataframe tbody tr th {\n",
       "        vertical-align: top;\n",
       "    }\n",
       "</style>\n",
       "<table border=\"1\" class=\"dataframe\">\n",
       "  <thead>\n",
       "    <tr style=\"text-align: right;\">\n",
       "      <th></th>\n",
       "      <th>city</th>\n",
       "      <th>date</th>\n",
       "      <th>fare</th>\n",
       "      <th>ride_id</th>\n",
       "      <th>driver_count</th>\n",
       "      <th>type</th>\n",
       "    </tr>\n",
       "  </thead>\n",
       "  <tbody>\n",
       "    <tr>\n",
       "      <th>0</th>\n",
       "      <td>Sarabury</td>\n",
       "      <td>2016-01-16 13:49:27</td>\n",
       "      <td>38.35</td>\n",
       "      <td>5403689035038</td>\n",
       "      <td>46</td>\n",
       "      <td>Urban</td>\n",
       "    </tr>\n",
       "    <tr>\n",
       "      <th>1</th>\n",
       "      <td>Sarabury</td>\n",
       "      <td>2016-07-23 07:42:44</td>\n",
       "      <td>21.76</td>\n",
       "      <td>7546681945283</td>\n",
       "      <td>46</td>\n",
       "      <td>Urban</td>\n",
       "    </tr>\n",
       "    <tr>\n",
       "      <th>2</th>\n",
       "      <td>Sarabury</td>\n",
       "      <td>2016-04-02 04:32:25</td>\n",
       "      <td>38.03</td>\n",
       "      <td>4932495851866</td>\n",
       "      <td>46</td>\n",
       "      <td>Urban</td>\n",
       "    </tr>\n",
       "    <tr>\n",
       "      <th>3</th>\n",
       "      <td>Sarabury</td>\n",
       "      <td>2016-06-23 05:03:41</td>\n",
       "      <td>26.82</td>\n",
       "      <td>6711035373406</td>\n",
       "      <td>46</td>\n",
       "      <td>Urban</td>\n",
       "    </tr>\n",
       "    <tr>\n",
       "      <th>4</th>\n",
       "      <td>Sarabury</td>\n",
       "      <td>2016-09-30 12:48:34</td>\n",
       "      <td>30.30</td>\n",
       "      <td>6388737278232</td>\n",
       "      <td>46</td>\n",
       "      <td>Urban</td>\n",
       "    </tr>\n",
       "    <tr>\n",
       "      <th>1625</th>\n",
       "      <td>Port James</td>\n",
       "      <td>2016-12-04 06:16:36</td>\n",
       "      <td>15.77</td>\n",
       "      <td>2259499336994</td>\n",
       "      <td>15</td>\n",
       "      <td>Suburban</td>\n",
       "    </tr>\n",
       "    <tr>\n",
       "      <th>1626</th>\n",
       "      <td>Port James</td>\n",
       "      <td>2016-12-04 06:16:36</td>\n",
       "      <td>15.77</td>\n",
       "      <td>2259499336994</td>\n",
       "      <td>3</td>\n",
       "      <td>Suburban</td>\n",
       "    </tr>\n",
       "    <tr>\n",
       "      <th>1627</th>\n",
       "      <td>Port James</td>\n",
       "      <td>2016-05-16 21:25:03</td>\n",
       "      <td>26.26</td>\n",
       "      <td>4051110168629</td>\n",
       "      <td>15</td>\n",
       "      <td>Suburban</td>\n",
       "    </tr>\n",
       "    <tr>\n",
       "      <th>1628</th>\n",
       "      <td>Port James</td>\n",
       "      <td>2016-05-16 21:25:03</td>\n",
       "      <td>26.26</td>\n",
       "      <td>4051110168629</td>\n",
       "      <td>3</td>\n",
       "      <td>Suburban</td>\n",
       "    </tr>\n",
       "    <tr>\n",
       "      <th>1629</th>\n",
       "      <td>Port James</td>\n",
       "      <td>2016-01-04 22:46:29</td>\n",
       "      <td>20.25</td>\n",
       "      <td>3994763896598</td>\n",
       "      <td>15</td>\n",
       "      <td>Suburban</td>\n",
       "    </tr>\n",
       "    <tr>\n",
       "      <th>2282</th>\n",
       "      <td>Horneland</td>\n",
       "      <td>2016-07-19 10:07:33</td>\n",
       "      <td>12.63</td>\n",
       "      <td>8214498891817</td>\n",
       "      <td>8</td>\n",
       "      <td>Rural</td>\n",
       "    </tr>\n",
       "    <tr>\n",
       "      <th>2283</th>\n",
       "      <td>Horneland</td>\n",
       "      <td>2016-03-22 21:22:20</td>\n",
       "      <td>31.53</td>\n",
       "      <td>1797785685674</td>\n",
       "      <td>8</td>\n",
       "      <td>Rural</td>\n",
       "    </tr>\n",
       "    <tr>\n",
       "      <th>2284</th>\n",
       "      <td>Horneland</td>\n",
       "      <td>2016-01-26 09:38:17</td>\n",
       "      <td>21.73</td>\n",
       "      <td>5665544449606</td>\n",
       "      <td>8</td>\n",
       "      <td>Rural</td>\n",
       "    </tr>\n",
       "    <tr>\n",
       "      <th>2285</th>\n",
       "      <td>Horneland</td>\n",
       "      <td>2016-03-25 02:05:42</td>\n",
       "      <td>20.04</td>\n",
       "      <td>5729327140644</td>\n",
       "      <td>8</td>\n",
       "      <td>Rural</td>\n",
       "    </tr>\n",
       "    <tr>\n",
       "      <th>2286</th>\n",
       "      <td>Kinghaven</td>\n",
       "      <td>2016-05-18 23:28:12</td>\n",
       "      <td>20.53</td>\n",
       "      <td>6432117120069</td>\n",
       "      <td>3</td>\n",
       "      <td>Rural</td>\n",
       "    </tr>\n",
       "  </tbody>\n",
       "</table>\n",
       "</div>"
      ],
      "text/plain": [
       "            city                 date   fare        ride_id  driver_count  \\\n",
       "0       Sarabury  2016-01-16 13:49:27  38.35  5403689035038            46   \n",
       "1       Sarabury  2016-07-23 07:42:44  21.76  7546681945283            46   \n",
       "2       Sarabury  2016-04-02 04:32:25  38.03  4932495851866            46   \n",
       "3       Sarabury  2016-06-23 05:03:41  26.82  6711035373406            46   \n",
       "4       Sarabury  2016-09-30 12:48:34  30.30  6388737278232            46   \n",
       "1625  Port James  2016-12-04 06:16:36  15.77  2259499336994            15   \n",
       "1626  Port James  2016-12-04 06:16:36  15.77  2259499336994             3   \n",
       "1627  Port James  2016-05-16 21:25:03  26.26  4051110168629            15   \n",
       "1628  Port James  2016-05-16 21:25:03  26.26  4051110168629             3   \n",
       "1629  Port James  2016-01-04 22:46:29  20.25  3994763896598            15   \n",
       "2282   Horneland  2016-07-19 10:07:33  12.63  8214498891817             8   \n",
       "2283   Horneland  2016-03-22 21:22:20  31.53  1797785685674             8   \n",
       "2284   Horneland  2016-01-26 09:38:17  21.73  5665544449606             8   \n",
       "2285   Horneland  2016-03-25 02:05:42  20.04  5729327140644             8   \n",
       "2286   Kinghaven  2016-05-18 23:28:12  20.53  6432117120069             3   \n",
       "\n",
       "          type  \n",
       "0        Urban  \n",
       "1        Urban  \n",
       "2        Urban  \n",
       "3        Urban  \n",
       "4        Urban  \n",
       "1625  Suburban  \n",
       "1626  Suburban  \n",
       "1627  Suburban  \n",
       "1628  Suburban  \n",
       "1629  Suburban  \n",
       "2282     Rural  \n",
       "2283     Rural  \n",
       "2284     Rural  \n",
       "2285     Rural  \n",
       "2286     Rural  "
      ]
     },
     "execution_count": 185,
     "metadata": {},
     "output_type": "execute_result"
    }
   ],
   "source": [
    "CityType = combo.groupby(\"type\")\n",
    "CityType.head()"
   ]
  },
  {
   "cell_type": "code",
   "execution_count": 186,
   "metadata": {},
   "outputs": [
    {
     "data": {
      "text/plain": [
       "<function matplotlib.pyplot.show>"
      ]
     },
     "execution_count": 186,
     "metadata": {},
     "output_type": "execute_result"
    },
    {
     "data": {
      "image/png": "[encoded data removed]",
      "text/plain": [
       "<matplotlib.figure.Figure at 0xdb647d0>"
      ]
     },
     "metadata": {},
     "output_type": "display_data"
    }
   ],
   "source": [
    "x = ride_count\n",
    "y = fair_ave\n",
    "z = drivers_sum\n",
    "#plt.scatter(x,y, labels = 'Number of Rides', color = 'r')\n",
    "plt.scatter(x, y, s=drivers_sum, alpha=0.5 )\n",
    "plt.xlabel('Total Number of Rides ( Per City )')\n",
    "plt.ylabel('Average Fare ($) ')\n",
    "plt.title('Pyber Ride Sharing Data (2016)')\n",
    "\n",
    "plt.show"
   ]
  },
  {
   "cell_type": "code",
   "execution_count": 162,
   "metadata": {},
   "outputs": [],
   "source": [
    "fair_total = CityType[\"fare\"].sum()\n",
    "\n",
    "# Calculate the Percentage by city type\n",
    "city_type_totals = combo[\"type\"].value_counts()\n",
    "city_type_percents = city_type_totals / fair_total * 100\n",
    "city_type_demographics = pd.DataFrame({\"Total Count\": city_type_totals, \"% per city\": city_type_percents})\n",
    "\n",
    "\n"
   ]
  },
  {
   "cell_type": "code",
   "execution_count": 161,
   "metadata": {},
   "outputs": [
    {
     "data": {
      "image/png": "[encoded data removed]",
      "text/plain": [
       "<matplotlib.figure.Figure at 0x9eef130>"
      ]
     },
     "metadata": {},
     "output_type": "display_data"
    }
   ],
   "source": [
    "#Creating a pie\n",
    "fig1, ax1 = plt.subplots()\n",
    "colors = [ 'red', 'blue', 'yellow']\n",
    "explode = (0, 0, 0.1 ) \n",
    "ax1.pie(city_type_percents, explode=explode, labels=labels, autopct='%1.1f%%',  shadow=True, startangle=90, colors=colors)\n",
    "plt.title('% of Total Fares by City Type')\n",
    "labels = [ \"Rural\", \"Suburban\", \"Urban\" ]"
   ]
  },
  {
   "cell_type": "code",
   "execution_count": 179,
   "metadata": {},
   "outputs": [],
   "source": [
    "# % of Rides by city Types\n",
    "TotalRide = len(combo[\"ride_id\"])\n",
    "ride_totals = combo[\"type\"].value_counts()\n",
    "ride_percents = ride_totals / TotalRide * 100\n",
    "Ride_demographics = pd.DataFrame({\"Total Count\": ride_totals, \"Percentage by Types\": ride_percents})\n"
   ]
  },
  {
   "cell_type": "code",
   "execution_count": 180,
   "metadata": {},
   "outputs": [
    {
     "data": {
      "text/plain": [
       "Text(0.5,1,'% of Total Rides by City Type')"
      ]
     },
     "execution_count": 180,
     "metadata": {},
     "output_type": "execute_result"
    },
    {
     "data": {
      "image/png": "[encoded data removed]",
      "text/plain": [
       "<matplotlib.figure.Figure at 0xdb238b0>"
      ]
     },
     "metadata": {},
     "output_type": "display_data"
    }
   ],
   "source": [
    "#Creating a pie\n",
    "fig1, ax1 = plt.subplots()\n",
    "colors = [ 'red', 'blue', 'yellow']\n",
    "explode = (0, 0, 0.1 ) \n",
    "labels = [ \"urban\", \"Suburban\", \"rural\" ]\n",
    "ax1.pie(ride_percents, explode=explode, labels=labels, autopct='%1.1f%%',  shadow=True, startangle=90, colors=colors)\n",
    "plt.title('% of Total Rides by City Type')"
   ]
  },
  {
   "cell_type": "code",
   "execution_count": 188,
   "metadata": {},
   "outputs": [
    {
     "data": {
      "text/plain": [
       "type\n",
       "Rural         727\n",
       "Suburban     9730\n",
       "Urban       64501\n",
       "Name: driver_count, dtype: int64"
      ]
     },
     "execution_count": 188,
     "metadata": {},
     "output_type": "execute_result"
    }
   ],
   "source": [
    "Driver_totals = combo.groupby('type')['driver_count'].sum()\n",
    "Driver_totals"
   ]
  },
  {
   "cell_type": "code",
   "execution_count": 190,
   "metadata": {},
   "outputs": [],
   "source": [
    "# % of Total Drivers by City Types\n",
    "TotalDrivers = combo[\"driver_count\"].sum()\n",
    "driver_totals = combo.groupby('type')['driver_count'].sum()\n",
    "driver_percents = driver_totals / TotalDrivers * 100\n",
    "driver_demographics = pd.DataFrame({\"Total Count\": driver_totals, \"Percentage by Types\": driver_percents})\n"
   ]
  },
  {
   "cell_type": "code",
   "execution_count": 194,
   "metadata": {},
   "outputs": [
    {
     "data": {
      "text/plain": [
       "Text(0.5,1,'% of Total Rides by City Type')"
      ]
     },
     "execution_count": 194,
     "metadata": {},
     "output_type": "execute_result"
    },
    {
     "data": {
      "image/png": "[encoded data removed]",
      "text/plain": [
       "<matplotlib.figure.Figure at 0xdbc0070>"
      ]
     },
     "metadata": {},
     "output_type": "display_data"
    }
   ],
   "source": [
    "#Creating a pie\n",
    "fig1, ax1 = plt.subplots()\n",
    "colors = [ 'red', 'blue', 'yellow']\n",
    "explode = (0, 0, 0.1 ) \n",
    "labels = [ \"Rural\", \"Suburban\", \"Urban\" ]\n",
    "ax1.pie(driver_percents, explode=explode, labels=labels, autopct='%1.1f%%',  shadow=True, startangle=90, colors=colors)\n",
    "plt.title('% of Total Rides by City Type')"
   ]
  },
  {
   "cell_type": "code",
   "execution_count": null,
   "metadata": {
    "collapsed": true
   },
   "outputs": [],
   "source": [
    "Pyber Ride Sharing\n",
    "\n",
    "Analysis\n",
    "\n",
    "Observable Trend 1: Urban cities have the most drivers and rides\n",
    "Observable Trend 2: Rural cities have the least drivers and rides\n",
    "Observable Trend 3:Davidtown and South Bryanstad ( both Urban cities ) have the most drivers"
   ]
  }
 ],
 "metadata": {
  "kernelspec": {
   "display_name": "Python 3",
   "language": "python",
   "name": "python3"
  },
  "language_info": {
   "codemirror_mode": {
    "name": "ipython",
    "version": 3
   },
   "file_extension": ".py",
   "mimetype": "text/x-python",
   "name": "python",
   "nbconvert_exporter": "python",
   "pygments_lexer": "ipython3",
   "version": "3.6.3"
  }
 },
 "nbformat": 4,
 "nbformat_minor": 2
}
